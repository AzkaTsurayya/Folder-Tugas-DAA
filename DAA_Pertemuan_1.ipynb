{
  "nbformat": 4,
  "nbformat_minor": 0,
  "metadata": {
    "colab": {
      "provenance": [],
      "authorship_tag": "ABX9TyMO9FLodTaBxC9yClBqjNLr",
      "include_colab_link": true
    },
    "kernelspec": {
      "name": "python3",
      "display_name": "Python 3"
    },
    "language_info": {
      "name": "python"
    }
  },
  "cells": [
    {
      "cell_type": "markdown",
      "metadata": {
        "id": "view-in-github",
        "colab_type": "text"
      },
      "source": [
        "<a href=\"https://colab.research.google.com/github/AzkaTsurayya/Folder-Tugas-DAA/blob/main/DAA_Pertemuan_1.ipynb\" target=\"_parent\"><img src=\"https://colab.research.google.com/assets/colab-badge.svg\" alt=\"Open In Colab\"/></a>"
      ]
    },
    {
      "cell_type": "code",
      "execution_count": null,
      "metadata": {
        "colab": {
          "base_uri": "https://localhost:8080/"
        },
        "id": "TATVRb6AAVQF",
        "outputId": "3448b50e-aaa1-4d82-bf3b-24af464a752e"
      },
      "outputs": [
        {
          "output_type": "stream",
          "name": "stdout",
          "text": [
            "Binary Search: 2\n",
            "Hash Search: 2\n"
          ]
        }
      ],
      "source": [
        "# STUDI KASUS 1: Pencarian Buku\n",
        "\n",
        "def binary_search(arr, keyword):\n",
        "    left, right = 0, len(arr) - 1\n",
        "    while left <= right:\n",
        "        mid = (left + right) // 2\n",
        "        if arr[mid] == keyword:\n",
        "            return mid\n",
        "        elif arr[mid] < keyword:\n",
        "            left = mid + 1\n",
        "        else:\n",
        "            right = mid - 1\n",
        "    return -1\n",
        "\n",
        "def hash_search(hash_index, keyword):\n",
        "    return hash_index.get(keyword, -1)\n",
        "\n",
        "if __name__ == \"__main__\":\n",
        "    katalog = [\"Algoritma\", \"Basis Data\", \"Jaringan\", \"Kalkulus\", \"Pemrograman\"]\n",
        "    hash_index = {judul: i for i, judul in enumerate(katalog)}\n",
        "\n",
        "    print(\"Binary Search:\", binary_search(katalog, \"Jaringan\"))\n",
        "    print(\"Hash Search:\", hash_search(hash_index, \"Jaringan\"))\n"
      ]
    },
    {
      "cell_type": "code",
      "source": [
        "# STUDI KASUS 2: Pencarian Rute\n",
        "\n",
        "from collections import deque\n",
        "import heapq\n",
        "\n",
        "def bfs(graph, start, goal):\n",
        "    queue = deque([(start, [start])])\n",
        "    visited = set()\n",
        "    while queue:\n",
        "        node, path = queue.popleft()\n",
        "        if node == goal:\n",
        "            return path\n",
        "        if node not in visited:\n",
        "            visited.add(node)\n",
        "            for neighbor in graph.get(node, []):\n",
        "                queue.append((neighbor, path + [neighbor]))\n",
        "    return None\n",
        "\n",
        "def dijkstra(graph, start, goal):\n",
        "    pq = [(0, start, [start])]\n",
        "    visited = set()\n",
        "    while pq:\n",
        "        cost, node, path = heapq.heappop(pq)\n",
        "        if node == goal:\n",
        "            return cost, path\n",
        "        if node not in visited:\n",
        "            visited.add(node)\n",
        "            for neighbor, weight in graph.get(node, []):\n",
        "                heapq.heappush(pq, (cost + weight, neighbor, path + [neighbor]))\n",
        "    return float(\"inf\"), []\n",
        "\n",
        "def a_star(graph, start, goal, heuristic):\n",
        "    pq = [(0 + heuristic(start, goal), 0, start, [start])]\n",
        "    visited = set()\n",
        "    while pq:\n",
        "        est_total, cost, node, path = heapq.heappop(pq)\n",
        "        if node == goal:\n",
        "            return cost, path\n",
        "        if node not in visited:\n",
        "            visited.add(node)\n",
        "            for neighbor, weight in graph.get(node, []):\n",
        "                g = cost + weight\n",
        "                f = g + heuristic(neighbor, goal)\n",
        "                heapq.heappush(pq, (f, g, neighbor, path + [neighbor]))\n",
        "    return float(\"inf\"), []\n",
        "\n",
        "# Contoh heuristic sederhana (jarak ASCII)\n",
        "def heuristic_example(node, goal):\n",
        "    return abs(ord(goal) - ord(node))\n",
        "\n",
        "if __name__ == \"__main__\":\n",
        "    graph_unweighted = {\n",
        "        \"A\": [\"B\", \"D\"],\n",
        "        \"B\": [\"C\"],\n",
        "        \"C\": [\"E\"],\n",
        "        \"D\": [\"C\"],\n",
        "        \"E\": []\n",
        "    }\n",
        "    print(\"BFS Path A->C:\", bfs(graph_unweighted, \"A\", \"C\"))\n",
        "\n",
        "    graph_weighted = {\n",
        "        \"A\": [(\"B\", 2), (\"D\", 1)],\n",
        "        \"B\": [(\"C\", 3)],\n",
        "        \"C\": [(\"E\", 1)],\n",
        "        \"D\": [(\"C\", 1)],\n",
        "        \"E\": []\n",
        "    }\n",
        "    print(\"Dijkstra A->C:\", dijkstra(graph_weighted, \"A\", \"C\"))\n",
        "    print(\"A* A->C:\", a_star(graph_weighted, \"A\", \"C\", heuristic_example))\n"
      ],
      "metadata": {
        "colab": {
          "base_uri": "https://localhost:8080/"
        },
        "id": "2qb5NvFlCHyp",
        "outputId": "c9b32535-335e-4e89-db74-fc729bd0f189"
      },
      "execution_count": null,
      "outputs": [
        {
          "output_type": "stream",
          "name": "stdout",
          "text": [
            "BFS Path A->C: ['A', 'B', 'C']\n",
            "Dijkstra A->C: (2, ['A', 'D', 'C'])\n",
            "A* A->C: (2, ['A', 'D', 'C'])\n"
          ]
        }
      ]
    },
    {
      "cell_type": "code",
      "source": [
        "# STUDI KASUS 3: Validasi NIM\n",
        "\n",
        "def validate_nim(nim):\n",
        "    # Panjang 10 dan semua digit\n",
        "    if len(nim) != 10 or not nim.isdigit():\n",
        "        return False\n",
        "\n",
        "    tahun = nim[:4]\n",
        "    fakultas = nim[4:6]\n",
        "    nomor = nim[6:]\n",
        "\n",
        "    # Aturan contoh: angkatan >= 2010, fakultas 01–99\n",
        "    if not (2010 <= int(tahun) <= 2099):\n",
        "        return False\n",
        "    if not (1 <= int(fakultas) <= 99):\n",
        "        return False\n",
        "\n",
        "    # Checksum sederhana: jumlah digit habis dibagi 7\n",
        "    checksum = sum(int(d) for d in nim)\n",
        "    if checksum % 7 != 0:\n",
        "        return False\n",
        "\n",
        "    return True\n",
        "\n",
        "if __name__ == \"__main__\":\n",
        "    print(\"Validasi NIM 2024071011:\", validate_nim(\"2024071011\"))\n",
        "    print(\"Validasi NIM 2019999999:\", validate_nim(\"2019999999\"))\n"
      ],
      "metadata": {
        "colab": {
          "base_uri": "https://localhost:8080/"
        },
        "id": "35G6ANwCr8h5",
        "outputId": "68c51ab3-a245-467a-8916-4f5044010e6e"
      },
      "execution_count": null,
      "outputs": [
        {
          "output_type": "stream",
          "name": "stdout",
          "text": [
            "Validasi NIM 2024071011: False\n",
            "Validasi NIM 2019999999: False\n"
          ]
        }
      ]
    }
  ]
}