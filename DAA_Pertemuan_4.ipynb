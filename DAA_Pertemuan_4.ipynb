{
  "nbformat": 4,
  "nbformat_minor": 0,
  "metadata": {
    "colab": {
      "provenance": [],
      "authorship_tag": "ABX9TyNNhTPt63jIOdT0MJF1ow10",
      "include_colab_link": true
    },
    "kernelspec": {
      "name": "python3",
      "display_name": "Python 3"
    },
    "language_info": {
      "name": "python"
    }
  },
  "cells": [
    {
      "cell_type": "markdown",
      "metadata": {
        "id": "view-in-github",
        "colab_type": "text"
      },
      "source": [
        "<a href=\"https://colab.research.google.com/github/AzkaTsurayya/Folder-Tugas-DAA/blob/main/DAA_Pertemuan_4.ipynb\" target=\"_parent\"><img src=\"https://colab.research.google.com/assets/colab-badge.svg\" alt=\"Open In Colab\"/></a>"
      ]
    },
    {
      "cell_type": "code",
      "execution_count": null,
      "metadata": {
        "colab": {
          "base_uri": "https://localhost:8080/"
        },
        "id": "BWXheSCPoFZo",
        "outputId": "e03ac877-bc29-454f-ad29-8b515d52eda9"
      },
      "outputs": [
        {
          "output_type": "stream",
          "name": "stdout",
          "text": [
            "2 1\n"
          ]
        }
      ],
      "source": [
        "#swap function\n",
        "var1 = 1\n",
        "var2 = 2\n",
        "var1, var2 = var2, var1\n",
        "print(var1, var2)"
      ]
    },
    {
      "cell_type": "code",
      "source": [
        "#swap function with var3\n",
        "var1 = \"kopi\"\n",
        "var2 = \"susu\"\n",
        "var3 = \"teh\"\n",
        "\n",
        "var1, var2, var3 = var2, var3, var1\n",
        "print(var1, var2, var3)"
      ],
      "metadata": {
        "colab": {
          "base_uri": "https://localhost:8080/"
        },
        "id": "1VS8fGAyt8ct",
        "outputId": "6a6d1e27-36da-4116-ac94-69ac0f7233a2"
      },
      "execution_count": null,
      "outputs": [
        {
          "output_type": "stream",
          "name": "stdout",
          "text": [
            "susu teh kopi\n"
          ]
        }
      ]
    },
    {
      "cell_type": "code",
      "source": [
        "list = [25, 21, 17, 24, 23, 27, 30]\n",
        "\n",
        "lastElementIndex = len(list) - 1\n",
        "print(0, list)\n",
        "for idx in range(lastElementIndex):\n",
        "    if list[idx] > list[idx+1]:\n",
        "        list[idx], list[idx+1] = list[idx+1], list[idx]\n",
        "    print(idx+1, list)"
      ],
      "metadata": {
        "colab": {
          "base_uri": "https://localhost:8080/"
        },
        "id": "8ymsGtjuyPVc",
        "outputId": "1a566790-fa3b-4656-8f5d-338bd114d409"
      },
      "execution_count": null,
      "outputs": [
        {
          "output_type": "stream",
          "name": "stdout",
          "text": [
            "0 [25, 21, 17, 24, 23, 27, 30]\n",
            "1 [21, 25, 17, 24, 23, 27, 30]\n",
            "2 [21, 17, 25, 24, 23, 27, 30]\n",
            "3 [21, 17, 24, 25, 23, 27, 30]\n",
            "4 [21, 17, 24, 23, 25, 27, 30]\n",
            "5 [21, 17, 24, 23, 25, 27, 30]\n",
            "6 [21, 17, 24, 23, 25, 27, 30]\n"
          ]
        }
      ]
    },
    {
      "cell_type": "code",
      "source": [
        "list = [25, 21, 17, 24, 23, 27, 30]\n",
        "\n",
        "def BubbleSort(list):\n",
        "    lastElementIndex = len(list)-1\n",
        "    for passNo in range(lastElementIndex, 0, -1):\n",
        "        for idx in range(passNo):\n",
        "            if list[idx] > list[idx+1]:\n",
        "                list[idx], list[idx+1] = list[idx+1], list[idx]\n",
        "\n",
        "BubbleSort(list)\n",
        "print(list)"
      ],
      "metadata": {
        "colab": {
          "base_uri": "https://localhost:8080/"
        },
        "id": "cH8uPmh2zgy2",
        "outputId": "f21ce54d-43b1-4fe2-d014-c8e5c6a340d0"
      },
      "execution_count": null,
      "outputs": [
        {
          "output_type": "stream",
          "name": "stdout",
          "text": [
            "[17, 21, 23, 24, 25, 27, 30]\n"
          ]
        }
      ]
    },
    {
      "cell_type": "code",
      "source": [
        "data = [100, 20, 60, 90, 40, 30, 10]\n",
        "print(\"Data awal:\", data)\n",
        "\n",
        "n = len(data)\n",
        "for i in range(n):\n",
        "  for j in range(0, n-i-1):\n",
        "    if data[j] > data[j+1]:\n",
        "      var3 = data[j]\n",
        "      data[j] = data[j+1]\n",
        "      data[j+1] = var3\n",
        "  print(f\"setelah pass {i+1}:\", data)\n",
        "print(\"\\nHasil akhir (Bubble Sort):\", data)\n"
      ],
      "metadata": {
        "id": "n2m5ljtWSTGx",
        "colab": {
          "base_uri": "https://localhost:8080/"
        },
        "outputId": "db59c22d-0159-4236-a714-8cc5192e850f"
      },
      "execution_count": null,
      "outputs": [
        {
          "output_type": "stream",
          "name": "stdout",
          "text": [
            "Data awal: [100, 20, 60, 90, 40, 30, 10]\n",
            "setelah pass 1: [20, 60, 90, 40, 30, 10, 100]\n",
            "setelah pass 2: [20, 60, 40, 30, 10, 90, 100]\n",
            "setelah pass 3: [20, 40, 30, 10, 60, 90, 100]\n",
            "setelah pass 4: [20, 30, 10, 40, 60, 90, 100]\n",
            "setelah pass 5: [20, 10, 30, 40, 60, 90, 100]\n",
            "setelah pass 6: [10, 20, 30, 40, 60, 90, 100]\n",
            "setelah pass 7: [10, 20, 30, 40, 60, 90, 100]\n",
            "\n",
            "Hasil akhir (Bubble Sort): [10, 20, 30, 40, 60, 90, 100]\n"
          ]
        }
      ]
    },
    {
      "cell_type": "code",
      "source": [
        "def InsertionSort(list):\n",
        "    for i in range(1, len(list)):\n",
        "      j = i-1\n",
        "      next = list[i]\n",
        "      while (list[j] > next) and (j >= 0):\n",
        "        list[j+1] = list[j]\n",
        "        j=j-1\n",
        "      list[j+1] = next\n",
        "    return list"
      ],
      "metadata": {
        "id": "yQeWo7flQJ9U"
      },
      "execution_count": null,
      "outputs": []
    },
    {
      "cell_type": "code",
      "source": [
        "list = [35, 31, 32, 34, 33, 37, 30]"
      ],
      "metadata": {
        "id": "IZ_Z8f7aQZfp"
      },
      "execution_count": null,
      "outputs": []
    },
    {
      "cell_type": "code",
      "source": [
        "list"
      ],
      "metadata": {
        "colab": {
          "base_uri": "https://localhost:8080/"
        },
        "id": "HNe2Zu4KQdMi",
        "outputId": "cd06409f-7fbc-436e-dcdb-17ab18a57ea3"
      },
      "execution_count": null,
      "outputs": [
        {
          "output_type": "execute_result",
          "data": {
            "text/plain": [
              "[35, 31, 32, 34, 33, 37, 30]"
            ]
          },
          "metadata": {},
          "execution_count": 5
        }
      ]
    },
    {
      "cell_type": "code",
      "source": [
        "def InsertionSort(list):\n",
        "    for i in range(1, len(list)):\n",
        "      j = i-1\n",
        "      kunci = list[i]\n",
        "      while (list[j] > kunci) and (j >= 0):\n",
        "        list[j+1] = list[j]\n",
        "        j=j-1\n",
        "      list[j+1] = kunci\n",
        "    return list\n",
        "\n",
        "data = [89, 12, 57, 16, 25, 11, 75]\n",
        "print(\"Data awal:\", data)\n",
        "hasil = InsertionSort(data)\n",
        "print(\"Data akhir:\", hasil)"
      ],
      "metadata": {
        "colab": {
          "base_uri": "https://localhost:8080/"
        },
        "id": "saJwLqcqQfF1",
        "outputId": "434a9d28-9dea-443f-e526-f112d8d861e5"
      },
      "execution_count": null,
      "outputs": [
        {
          "output_type": "stream",
          "name": "stdout",
          "text": [
            "Data awal: [89, 12, 57, 16, 25, 11, 75]\n",
            "Data akhir: [11, 12, 16, 25, 57, 75, 89]\n"
          ]
        }
      ]
    },
    {
      "cell_type": "code",
      "source": [
        "def SelectionSort(list):\n",
        "  for fill_slot in range(len(list) - 1, 0, -1):\n",
        "    max_index = 0\n",
        "    for location in range(1, fill_slot + 1):\n",
        "      if list[location] > list[max_index]:\n",
        "        max_index = location\n",
        "    list[fill_slot], list[max_index] = list[max_index], list[fill_slot]\n",
        "  return list\n",
        "\n",
        "list = [70, 15, 25, 19, 34, 44]\n",
        "SelectionSort(list)"
      ],
      "metadata": {
        "colab": {
          "base_uri": "https://localhost:8080/"
        },
        "id": "9SbUCTpoRODp",
        "outputId": "6305c8e4-5c6f-46dd-fb56-850ac29362da"
      },
      "execution_count": null,
      "outputs": [
        {
          "output_type": "execute_result",
          "data": {
            "text/plain": [
              "[15, 19, 25, 34, 44, 70]"
            ]
          },
          "metadata": {},
          "execution_count": 9
        }
      ]
    },
    {
      "cell_type": "code",
      "source": [
        "def SelectionSort(list):\n",
        "  for fill_slot in range(len(list) - 1, 0, -1):\n",
        "    max_index = 0\n",
        "    for location in range(1, fill_slot + 1):\n",
        "      if list[location] > list[max_index]:\n",
        "        max_index = location\n",
        "    list[fill_slot], list[max_index] = list[max_index], list[fill_slot]\n",
        "  return list\n",
        "\n",
        "list = [89, 12, 57, 16, 25]\n",
        "print(\"Data awal:\", data)\n",
        "hasil = SelectionSort(data)\n",
        "print(\"Hasil akhir:\", data)"
      ],
      "metadata": {
        "colab": {
          "base_uri": "https://localhost:8080/"
        },
        "id": "lQ0AHnbiRi6p",
        "outputId": "dfbf70ca-f8f6-4140-d625-0b2156a8de42"
      },
      "execution_count": null,
      "outputs": [
        {
          "output_type": "stream",
          "name": "stdout",
          "text": [
            "Data awal: [11, 12, 16, 25, 57, 75, 89]\n",
            "Hasil akhir: [11, 12, 16, 25, 57, 75, 89]\n"
          ]
        }
      ]
    },
    {
      "cell_type": "code",
      "source": [
        "def LinearSearch(list, item):\n",
        "  index = 0\n",
        "  found = False\n",
        "\n",
        "  while index < len(list) and not found:\n",
        "    if list[index] == item:\n",
        "      found = True\n",
        "    else:\n",
        "      index = index + 1\n",
        "  return found\n",
        "\n",
        "list = [12, 33, 11, 90, 22, 55, 90]\n",
        "print(LinearSearch(list, 12))\n",
        "print(LinearSearch(list, 91))"
      ],
      "metadata": {
        "colab": {
          "base_uri": "https://localhost:8080/"
        },
        "id": "pyYqgVBzSHuZ",
        "outputId": "b293f258-cf8b-4e97-f30c-cf5f548a0e5d"
      },
      "execution_count": null,
      "outputs": [
        {
          "output_type": "stream",
          "name": "stdout",
          "text": [
            "True\n",
            "False\n"
          ]
        }
      ]
    },
    {
      "cell_type": "code",
      "source": [
        "def LinearSearch(list, item):\n",
        "  index = 0\n",
        "  found = False\n",
        "\n",
        "  while index < len(list) and not found:\n",
        "    if list[index] == item:\n",
        "      found = True\n",
        "    else:\n",
        "      index = index + 1\n",
        "  return found, index if found else -1\n",
        "\n",
        "data = ['y','u','i','w','o','a','q','u','j','p']\n",
        "print(\"Data:\", data)\n",
        "\n",
        "cari = \"a\"\n",
        "ketemu, posisi = LinearSearch(data, cari)\n",
        "\n",
        "if ketemu:\n",
        "  print(f\"Huruf '{cari}' ditemukan di indeks ke -{posisi}\")\n",
        "else:\n",
        "  print(f\"Huruf '{cari}' tidak ditemukan\")"
      ],
      "metadata": {
        "id": "ukeMsHvPS-6e",
        "colab": {
          "base_uri": "https://localhost:8080/"
        },
        "outputId": "ee557c17-005e-4aeb-dade-d20c312f760d"
      },
      "execution_count": 1,
      "outputs": [
        {
          "output_type": "stream",
          "name": "stdout",
          "text": [
            "Data: ['y', 'u', 'i', 'w', 'o', 'a', 'q', 'u', 'j', 'p']\n",
            "Huruf 'a' ditemukan di indeks ke -5\n"
          ]
        }
      ]
    },
    {
      "cell_type": "code",
      "source": [
        "def BubbleSort(list):\n",
        "  n = len(list)\n",
        "  for i in range(n):\n",
        "    for j in range(0, n - i - 1):\n",
        "      if list[j] > list[j + 1]:\n",
        "        var3 = list[j]\n",
        "        list[j] = list[j + 1]\n",
        "        list[j + 1] = var3\n",
        "  return list\n",
        "\n",
        "def BinarySearch(list, item):\n",
        "  first = 0\n",
        "  last = len(list) - 1\n",
        "  found = False\n",
        "\n",
        "  while first <= last and not found:\n",
        "    midpoint = (first + last) // 2\n",
        "    if list[midpoint] == item:\n",
        "      found = True\n",
        "    else:\n",
        "      if item < list[midpoint]:\n",
        "        last = midpoint - 1\n",
        "      else:\n",
        "        first = midpoint + 1\n",
        "  return found\n",
        "\n",
        "data = [12, 33, 11, 99, 22, 55, 90]\n",
        "sorted_list = BubbleSort(data)\n",
        "print(BinarySearch(sorted_list, 12))\n",
        "print(BinarySearch(sorted_list, 91))"
      ],
      "metadata": {
        "colab": {
          "base_uri": "https://localhost:8080/"
        },
        "id": "7y6094RJSU5C",
        "outputId": "8a21904b-ed4f-49e5-aa85-c28a24b0ff95"
      },
      "execution_count": 7,
      "outputs": [
        {
          "output_type": "stream",
          "name": "stdout",
          "text": [
            "True\n",
            "False\n"
          ]
        }
      ]
    },
    {
      "cell_type": "code",
      "source": [
        "def BubbleSort(lst):\n",
        "    n = len(lst)\n",
        "    for i in range(n):\n",
        "        for j in range(0, n - i - 1):\n",
        "            if lst[j] > lst[j + 1]:\n",
        "                var3 = lst[j]\n",
        "                lst[j] = lst[j + 1]\n",
        "                lst[j + 1] = var3\n",
        "    return lst\n",
        "\n",
        "def BinarySearch(lst, item):\n",
        "    first = 0\n",
        "    last = len(lst) - 1\n",
        "    found = False\n",
        "\n",
        "    while first <= last and not found:\n",
        "        midpoint = (first + last) // 2\n",
        "        if lst[midpoint] == item:\n",
        "            found = True\n",
        "        else:\n",
        "            if item < lst[midpoint]:\n",
        "                last = midpoint - 1\n",
        "            else:\n",
        "                first = midpoint + 1\n",
        "    return found\n",
        "\n",
        "data = ['y','u','i','w','o','a','q','u','j','p']\n",
        "print(\"Data awal:\", data)\n",
        "sorted_data = BubbleSort(data)\n",
        "print(\"Data setelah sort:\", sorted_data)\n",
        "print(\"Cari 'a':\", BinarySearch(sorted_data, 'a'))\n",
        "print(\"Cari 'z':\", BinarySearch(sorted_data, 'z'))"
      ],
      "metadata": {
        "colab": {
          "base_uri": "https://localhost:8080/"
        },
        "id": "sj1et9K9T0eQ",
        "outputId": "d9130b5d-9020-42d2-f1b7-c7737b927247"
      },
      "execution_count": 8,
      "outputs": [
        {
          "output_type": "stream",
          "name": "stdout",
          "text": [
            "Data awal: ['y', 'u', 'i', 'w', 'o', 'a', 'q', 'u', 'j', 'p']\n",
            "Data setelah sort: ['a', 'i', 'j', 'o', 'p', 'q', 'u', 'u', 'w', 'y']\n",
            "Cari 'a': True\n",
            "Cari 'z': False\n"
          ]
        }
      ]
    },
    {
      "cell_type": "code",
      "source": [
        "def IntPolsearch(list, x):\n",
        "  idx0 = 0\n",
        "  idxn = (len(list)-1)\n",
        "  found = False\n",
        "  while idx0 <= idxn and x >= list[idx0] and x <= list[idxn]:\n",
        "    mid = idx0 +int(((float(idxn - idx0)/(list[idxn] - list[idx0])) * (x - list[idx0])))\n",
        "    if list[mid] == x:\n",
        "      found = True\n",
        "      return found\n",
        "    if list[mid] < x:\n",
        "      idx0 = mid + 1\n",
        "  return found\n",
        "\n",
        "list = [12, 33, 11, 99, 22, 55, 90]\n",
        "sorted_list = BubbleSort(list)\n",
        "print(IntPolsearch(list, 12))\n",
        "print(IntPolsearch(list, 91))"
      ],
      "metadata": {
        "colab": {
          "base_uri": "https://localhost:8080/"
        },
        "id": "De7pJ7g5UXVD",
        "outputId": "1ddd8f67-6358-48a9-ad87-08b6d53c342c"
      },
      "execution_count": 9,
      "outputs": [
        {
          "output_type": "stream",
          "name": "stdout",
          "text": [
            "True\n",
            "False\n"
          ]
        }
      ]
    },
    {
      "cell_type": "code",
      "source": [
        "def IntPolsearch(lst, x):\n",
        "    idx0 = 0\n",
        "    idxn = len(lst) - 1\n",
        "    found = False\n",
        "    while idx0 <= idxn and x >= lst[idx0] and x <= lst[idxn]:\n",
        "        if lst[idxn] == lst[idx0]:\n",
        "            mid = idx0\n",
        "        else:\n",
        "            mid = idx0 + int(((idxn - idx0) / (lst[idxn] - lst[idx0])) * (x - lst[idx0]))\n",
        "        if lst[mid] == x:\n",
        "            found = True\n",
        "            return found\n",
        "        if lst[mid] < x:\n",
        "            idx0 = mid + 1\n",
        "        else:\n",
        "            idxn = mid - 1\n",
        "    return found\n",
        "\n",
        "letters = ['y','u','i','w','o','a','q','u','j','p']\n",
        "sorted_letters = sorted(letters)\n",
        "arr = [ord(c) for c in sorted_letters]\n",
        "print(\"Data terurut:\", sorted_letters)\n",
        "print(\"Cari 'u':\", IntPolsearch(arr, ord('u')))\n",
        "print(\"Cari 'z':\", IntPolsearch(arr, ord('z')))"
      ],
      "metadata": {
        "colab": {
          "base_uri": "https://localhost:8080/"
        },
        "id": "bOIQC_O_UZzY",
        "outputId": "926c9c81-43a8-4d15-ac6b-cd38d6d92961"
      },
      "execution_count": 10,
      "outputs": [
        {
          "output_type": "stream",
          "name": "stdout",
          "text": [
            "Data terurut: ['a', 'i', 'j', 'o', 'p', 'q', 'u', 'u', 'w', 'y']\n",
            "Cari 'u': True\n",
            "Cari 'z': False\n"
          ]
        }
      ]
    }
  ]
}